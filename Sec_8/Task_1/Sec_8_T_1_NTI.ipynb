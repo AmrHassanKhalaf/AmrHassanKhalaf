{
  "nbformat": 4,
  "nbformat_minor": 0,
  "metadata": {
    "colab": {
      "provenance": [],
      "authorship_tag": "ABX9TyM32UHViazr03b9QMiXmgbf",
      "include_colab_link": true
    },
    "kernelspec": {
      "name": "python3",
      "display_name": "Python 3"
    },
    "language_info": {
      "name": "python"
    }
  },
  "cells": [
    {
      "cell_type": "markdown",
      "metadata": {
        "id": "view-in-github",
        "colab_type": "text"
      },
      "source": [
        "<a href=\"https://colab.research.google.com/github/AmrHassanKhalaf/AmrHassanKhalaf/blob/main/Sec_8/Task_1/Sec_8_T_1_NTI.ipynb\" target=\"_parent\"><img src=\"https://colab.research.google.com/assets/colab-badge.svg\" alt=\"Open In Colab\"/></a>"
      ]
    },
    {
      "cell_type": "code",
      "source": [
        "from sklearn.datasets import fetch_20newsgroups"
      ],
      "metadata": {
        "id": "NzwX4zCuKN9N"
      },
      "execution_count": 42,
      "outputs": []
    },
    {
      "cell_type": "code",
      "source": [
        "import pandas as pd"
      ],
      "metadata": {
        "id": "IiCzE-n_KHPW"
      },
      "execution_count": 43,
      "outputs": []
    },
    {
      "cell_type": "code",
      "source": [
        "categories = [\n",
        " 'comp.os.ms-windows.misc',\n",
        " 'rec.sport.hockey',\n",
        " 'soc.religion.christian',\n",
        "]"
      ],
      "metadata": {
        "id": "For5P2SAKY8D"
      },
      "execution_count": 44,
      "outputs": []
    },
    {
      "cell_type": "code",
      "execution_count": 45,
      "metadata": {
        "id": "7Dbjvws4J9q5"
      },
      "outputs": [],
      "source": [
        "dataset = fetch_20newsgroups(subset='train', categories=categories, shuffle=True, remove=('headers', 'footers', 'quotes'))\n",
        "data = {'text': dataset.data, 'target': dataset.target}\n",
        "df = pd.DataFrame(data)"
      ]
    },
    {
      "cell_type": "code",
      "source": [
        "df.head()"
      ],
      "metadata": {
        "colab": {
          "base_uri": "https://localhost:8080/",
          "height": 206
        },
        "id": "Q_kcDgKJKj9q",
        "outputId": "a2221850-dfbc-41d2-d2a7-b9f3735f9de9"
      },
      "execution_count": 46,
      "outputs": [
        {
          "output_type": "execute_result",
          "data": {
            "text/plain": [
              "                                                text  target\n",
              "0  \\n   >>So good that there isn't any diff wheth...       0\n",
              "1  \\n\\nWell I don't see any smileys here.  I am t...       1\n",
              "2  \\n\\nI haven't heard any news about ASN carryin...       1\n",
              "3  well, the subject says just about all I intend...       0\n",
              "4  \\n   Just a quick question. If Mary was Immacu...       2"
            ],
            "text/html": [
              "\n",
              "  <div id=\"df-51f8a987-820b-4e2b-90d3-95ff26e15c8f\" class=\"colab-df-container\">\n",
              "    <div>\n",
              "<style scoped>\n",
              "    .dataframe tbody tr th:only-of-type {\n",
              "        vertical-align: middle;\n",
              "    }\n",
              "\n",
              "    .dataframe tbody tr th {\n",
              "        vertical-align: top;\n",
              "    }\n",
              "\n",
              "    .dataframe thead th {\n",
              "        text-align: right;\n",
              "    }\n",
              "</style>\n",
              "<table border=\"1\" class=\"dataframe\">\n",
              "  <thead>\n",
              "    <tr style=\"text-align: right;\">\n",
              "      <th></th>\n",
              "      <th>text</th>\n",
              "      <th>target</th>\n",
              "    </tr>\n",
              "  </thead>\n",
              "  <tbody>\n",
              "    <tr>\n",
              "      <th>0</th>\n",
              "      <td>\\n   &gt;&gt;So good that there isn't any diff wheth...</td>\n",
              "      <td>0</td>\n",
              "    </tr>\n",
              "    <tr>\n",
              "      <th>1</th>\n",
              "      <td>\\n\\nWell I don't see any smileys here.  I am t...</td>\n",
              "      <td>1</td>\n",
              "    </tr>\n",
              "    <tr>\n",
              "      <th>2</th>\n",
              "      <td>\\n\\nI haven't heard any news about ASN carryin...</td>\n",
              "      <td>1</td>\n",
              "    </tr>\n",
              "    <tr>\n",
              "      <th>3</th>\n",
              "      <td>well, the subject says just about all I intend...</td>\n",
              "      <td>0</td>\n",
              "    </tr>\n",
              "    <tr>\n",
              "      <th>4</th>\n",
              "      <td>\\n   Just a quick question. If Mary was Immacu...</td>\n",
              "      <td>2</td>\n",
              "    </tr>\n",
              "  </tbody>\n",
              "</table>\n",
              "</div>\n",
              "    <div class=\"colab-df-buttons\">\n",
              "\n",
              "  <div class=\"colab-df-container\">\n",
              "    <button class=\"colab-df-convert\" onclick=\"convertToInteractive('df-51f8a987-820b-4e2b-90d3-95ff26e15c8f')\"\n",
              "            title=\"Convert this dataframe to an interactive table.\"\n",
              "            style=\"display:none;\">\n",
              "\n",
              "  <svg xmlns=\"http://www.w3.org/2000/svg\" height=\"24px\" viewBox=\"0 -960 960 960\">\n",
              "    <path d=\"M120-120v-720h720v720H120Zm60-500h600v-160H180v160Zm220 220h160v-160H400v160Zm0 220h160v-160H400v160ZM180-400h160v-160H180v160Zm440 0h160v-160H620v160ZM180-180h160v-160H180v160Zm440 0h160v-160H620v160Z\"/>\n",
              "  </svg>\n",
              "    </button>\n",
              "\n",
              "  <style>\n",
              "    .colab-df-container {\n",
              "      display:flex;\n",
              "      gap: 12px;\n",
              "    }\n",
              "\n",
              "    .colab-df-convert {\n",
              "      background-color: #E8F0FE;\n",
              "      border: none;\n",
              "      border-radius: 50%;\n",
              "      cursor: pointer;\n",
              "      display: none;\n",
              "      fill: #1967D2;\n",
              "      height: 32px;\n",
              "      padding: 0 0 0 0;\n",
              "      width: 32px;\n",
              "    }\n",
              "\n",
              "    .colab-df-convert:hover {\n",
              "      background-color: #E2EBFA;\n",
              "      box-shadow: 0px 1px 2px rgba(60, 64, 67, 0.3), 0px 1px 3px 1px rgba(60, 64, 67, 0.15);\n",
              "      fill: #174EA6;\n",
              "    }\n",
              "\n",
              "    .colab-df-buttons div {\n",
              "      margin-bottom: 4px;\n",
              "    }\n",
              "\n",
              "    [theme=dark] .colab-df-convert {\n",
              "      background-color: #3B4455;\n",
              "      fill: #D2E3FC;\n",
              "    }\n",
              "\n",
              "    [theme=dark] .colab-df-convert:hover {\n",
              "      background-color: #434B5C;\n",
              "      box-shadow: 0px 1px 3px 1px rgba(0, 0, 0, 0.15);\n",
              "      filter: drop-shadow(0px 1px 2px rgba(0, 0, 0, 0.3));\n",
              "      fill: #FFFFFF;\n",
              "    }\n",
              "  </style>\n",
              "\n",
              "    <script>\n",
              "      const buttonEl =\n",
              "        document.querySelector('#df-51f8a987-820b-4e2b-90d3-95ff26e15c8f button.colab-df-convert');\n",
              "      buttonEl.style.display =\n",
              "        google.colab.kernel.accessAllowed ? 'block' : 'none';\n",
              "\n",
              "      async function convertToInteractive(key) {\n",
              "        const element = document.querySelector('#df-51f8a987-820b-4e2b-90d3-95ff26e15c8f');\n",
              "        const dataTable =\n",
              "          await google.colab.kernel.invokeFunction('convertToInteractive',\n",
              "                                                    [key], {});\n",
              "        if (!dataTable) return;\n",
              "\n",
              "        const docLinkHtml = 'Like what you see? Visit the ' +\n",
              "          '<a target=\"_blank\" href=https://colab.research.google.com/notebooks/data_table.ipynb>data table notebook</a>'\n",
              "          + ' to learn more about interactive tables.';\n",
              "        element.innerHTML = '';\n",
              "        dataTable['output_type'] = 'display_data';\n",
              "        await google.colab.output.renderOutput(dataTable, element);\n",
              "        const docLink = document.createElement('div');\n",
              "        docLink.innerHTML = docLinkHtml;\n",
              "        element.appendChild(docLink);\n",
              "      }\n",
              "    </script>\n",
              "  </div>\n",
              "\n",
              "\n",
              "    <div id=\"df-f639fd69-abb6-43c3-bbfb-41931d941f92\">\n",
              "      <button class=\"colab-df-quickchart\" onclick=\"quickchart('df-f639fd69-abb6-43c3-bbfb-41931d941f92')\"\n",
              "                title=\"Suggest charts\"\n",
              "                style=\"display:none;\">\n",
              "\n",
              "<svg xmlns=\"http://www.w3.org/2000/svg\" height=\"24px\"viewBox=\"0 0 24 24\"\n",
              "     width=\"24px\">\n",
              "    <g>\n",
              "        <path d=\"M19 3H5c-1.1 0-2 .9-2 2v14c0 1.1.9 2 2 2h14c1.1 0 2-.9 2-2V5c0-1.1-.9-2-2-2zM9 17H7v-7h2v7zm4 0h-2V7h2v10zm4 0h-2v-4h2v4z\"/>\n",
              "    </g>\n",
              "</svg>\n",
              "      </button>\n",
              "\n",
              "<style>\n",
              "  .colab-df-quickchart {\n",
              "      --bg-color: #E8F0FE;\n",
              "      --fill-color: #1967D2;\n",
              "      --hover-bg-color: #E2EBFA;\n",
              "      --hover-fill-color: #174EA6;\n",
              "      --disabled-fill-color: #AAA;\n",
              "      --disabled-bg-color: #DDD;\n",
              "  }\n",
              "\n",
              "  [theme=dark] .colab-df-quickchart {\n",
              "      --bg-color: #3B4455;\n",
              "      --fill-color: #D2E3FC;\n",
              "      --hover-bg-color: #434B5C;\n",
              "      --hover-fill-color: #FFFFFF;\n",
              "      --disabled-bg-color: #3B4455;\n",
              "      --disabled-fill-color: #666;\n",
              "  }\n",
              "\n",
              "  .colab-df-quickchart {\n",
              "    background-color: var(--bg-color);\n",
              "    border: none;\n",
              "    border-radius: 50%;\n",
              "    cursor: pointer;\n",
              "    display: none;\n",
              "    fill: var(--fill-color);\n",
              "    height: 32px;\n",
              "    padding: 0;\n",
              "    width: 32px;\n",
              "  }\n",
              "\n",
              "  .colab-df-quickchart:hover {\n",
              "    background-color: var(--hover-bg-color);\n",
              "    box-shadow: 0 1px 2px rgba(60, 64, 67, 0.3), 0 1px 3px 1px rgba(60, 64, 67, 0.15);\n",
              "    fill: var(--button-hover-fill-color);\n",
              "  }\n",
              "\n",
              "  .colab-df-quickchart-complete:disabled,\n",
              "  .colab-df-quickchart-complete:disabled:hover {\n",
              "    background-color: var(--disabled-bg-color);\n",
              "    fill: var(--disabled-fill-color);\n",
              "    box-shadow: none;\n",
              "  }\n",
              "\n",
              "  .colab-df-spinner {\n",
              "    border: 2px solid var(--fill-color);\n",
              "    border-color: transparent;\n",
              "    border-bottom-color: var(--fill-color);\n",
              "    animation:\n",
              "      spin 1s steps(1) infinite;\n",
              "  }\n",
              "\n",
              "  @keyframes spin {\n",
              "    0% {\n",
              "      border-color: transparent;\n",
              "      border-bottom-color: var(--fill-color);\n",
              "      border-left-color: var(--fill-color);\n",
              "    }\n",
              "    20% {\n",
              "      border-color: transparent;\n",
              "      border-left-color: var(--fill-color);\n",
              "      border-top-color: var(--fill-color);\n",
              "    }\n",
              "    30% {\n",
              "      border-color: transparent;\n",
              "      border-left-color: var(--fill-color);\n",
              "      border-top-color: var(--fill-color);\n",
              "      border-right-color: var(--fill-color);\n",
              "    }\n",
              "    40% {\n",
              "      border-color: transparent;\n",
              "      border-right-color: var(--fill-color);\n",
              "      border-top-color: var(--fill-color);\n",
              "    }\n",
              "    60% {\n",
              "      border-color: transparent;\n",
              "      border-right-color: var(--fill-color);\n",
              "    }\n",
              "    80% {\n",
              "      border-color: transparent;\n",
              "      border-right-color: var(--fill-color);\n",
              "      border-bottom-color: var(--fill-color);\n",
              "    }\n",
              "    90% {\n",
              "      border-color: transparent;\n",
              "      border-bottom-color: var(--fill-color);\n",
              "    }\n",
              "  }\n",
              "</style>\n",
              "\n",
              "      <script>\n",
              "        async function quickchart(key) {\n",
              "          const quickchartButtonEl =\n",
              "            document.querySelector('#' + key + ' button');\n",
              "          quickchartButtonEl.disabled = true;  // To prevent multiple clicks.\n",
              "          quickchartButtonEl.classList.add('colab-df-spinner');\n",
              "          try {\n",
              "            const charts = await google.colab.kernel.invokeFunction(\n",
              "                'suggestCharts', [key], {});\n",
              "          } catch (error) {\n",
              "            console.error('Error during call to suggestCharts:', error);\n",
              "          }\n",
              "          quickchartButtonEl.classList.remove('colab-df-spinner');\n",
              "          quickchartButtonEl.classList.add('colab-df-quickchart-complete');\n",
              "        }\n",
              "        (() => {\n",
              "          let quickchartButtonEl =\n",
              "            document.querySelector('#df-f639fd69-abb6-43c3-bbfb-41931d941f92 button');\n",
              "          quickchartButtonEl.style.display =\n",
              "            google.colab.kernel.accessAllowed ? 'block' : 'none';\n",
              "        })();\n",
              "      </script>\n",
              "    </div>\n",
              "\n",
              "    </div>\n",
              "  </div>\n"
            ],
            "application/vnd.google.colaboratory.intrinsic+json": {
              "type": "dataframe",
              "variable_name": "df",
              "summary": "{\n  \"name\": \"df\",\n  \"rows\": 1790,\n  \"fields\": [\n    {\n      \"column\": \"text\",\n      \"properties\": {\n        \"dtype\": \"string\",\n        \"num_unique_values\": 1749,\n        \"samples\": [\n          \"\\n\\n  I question the implications of this statement; namely, that there are certain\\nphysical acts which are limited to God and that attempting to replicate these\\nacts is blasphemy against God.  God caused a bush to burn without being\\nconsumed--if I do the same thing, am I usurping God's role?  \\n  Religious people are threatened by science because it has been systematically\\nremoving the physical \\\"proofs\\\" of God's existence.  As time goes on we have to\\nrely more and more on faith and the spiritual world to relate to God becuase\\nscience is removing our props.  I don't think this is a bad thing.\",\n          \"\\n: Speaking of great players, man-oh-man can Quebec skate.  I haven't seen a\\n: team so potent on the rush in a long time.  Watching them break out of their\\n: zone, especially Sundin, is a treat to watch.  They remind me of the Red \\n: Army.  \\n\\n: dchhabra@stpl.ists.ca (pissed-off Habs fan)\\n\\nYeah, the Nords look like they're going to be good...but (excuse the\\nbias) have you ever watched the Pens on a rush?...Don't answer: everyone\\nhas seen this footage.  Near the end of the season when the Pens played\\nthe Nords it was like watching a (younger) double of the Pens.  ...The\\nNords looked good right up to the point when they lost. \\n--\\nRavi Shah\\nshah+@pitt.edu\",\n          \"[...]\\n\\n\\tI struggled with the margin problem for ages as well, until I\\nfinally got hold of the shareware binary editor BEAV133, and dug into\\nNOTEPAD.EXE (there is no SETUP facility to force NOTEPAD to default to \\n0.0 margins- it's hardwired into code!!!). \\n\\n\\tDo a SEARCH for \\\".75\\\", then change the offending bytes to \\\".00\\\", \\net viola. Who are the guys who hardcode these \\\"options\\\" anyway?\\n\\n\\tI'm interested in whether the problem only rears it's ugly head for \\ncertain printers- I'm using an old Epson LX-800 (or is that EX-800? never can \\nremember).\"\n        ],\n        \"semantic_type\": \"\",\n        \"description\": \"\"\n      }\n    },\n    {\n      \"column\": \"target\",\n      \"properties\": {\n        \"dtype\": \"number\",\n        \"std\": 0,\n        \"min\": 0,\n        \"max\": 2,\n        \"num_unique_values\": 3,\n        \"samples\": [\n          0,\n          1,\n          2\n        ],\n        \"semantic_type\": \"\",\n        \"description\": \"\"\n      }\n    }\n  ]\n}"
            }
          },
          "metadata": {},
          "execution_count": 46
        }
      ]
    },
    {
      "cell_type": "code",
      "source": [
        "import re"
      ],
      "metadata": {
        "id": "MFaNLzKbLXd_"
      },
      "execution_count": 47,
      "outputs": []
    },
    {
      "cell_type": "code",
      "source": [
        "# cleaning\n",
        "def preprocess(text):\n",
        "    text = str(text)\n",
        "    text = re.sub(r'[^\\w\\s]', ' ', text)\n",
        "    text = re.sub(r'\\d+', ' ', text)\n",
        "    text = re.sub(r'\\s+', ' ', text)\n",
        "    return text.strip()\n",
        "\n",
        "df[\"clean_text\"] = df[\"text\"].apply(preprocess)\n",
        "\n"
      ],
      "metadata": {
        "id": "MB6NhCeqKlL_"
      },
      "execution_count": 48,
      "outputs": []
    },
    {
      "cell_type": "code",
      "source": [
        "df.drop([\"text\"], axis=1, inplace=True)"
      ],
      "metadata": {
        "id": "rtvqInkgLY24"
      },
      "execution_count": 49,
      "outputs": []
    },
    {
      "cell_type": "code",
      "source": [
        "df.head()"
      ],
      "metadata": {
        "colab": {
          "base_uri": "https://localhost:8080/",
          "height": 206
        },
        "id": "Ajsmwc__LdUX",
        "outputId": "b61e5a7c-d1b7-46a3-c0d4-8f6337eb4fbc"
      },
      "execution_count": 50,
      "outputs": [
        {
          "output_type": "execute_result",
          "data": {
            "text/plain": [
              "   target                                         clean_text\n",
              "0       0  So good that there isn t any diff whether or n...\n",
              "1       1  Well I don t see any smileys here I am trying ...\n",
              "2       1  I haven t heard any news about ASN carrying an...\n",
              "3       0  well the subject says just about all I intende...\n",
              "4       2  Just a quick question If Mary was Immaculately..."
            ],
            "text/html": [
              "\n",
              "  <div id=\"df-e27cf410-5827-49b4-852e-2230cdfbcc61\" class=\"colab-df-container\">\n",
              "    <div>\n",
              "<style scoped>\n",
              "    .dataframe tbody tr th:only-of-type {\n",
              "        vertical-align: middle;\n",
              "    }\n",
              "\n",
              "    .dataframe tbody tr th {\n",
              "        vertical-align: top;\n",
              "    }\n",
              "\n",
              "    .dataframe thead th {\n",
              "        text-align: right;\n",
              "    }\n",
              "</style>\n",
              "<table border=\"1\" class=\"dataframe\">\n",
              "  <thead>\n",
              "    <tr style=\"text-align: right;\">\n",
              "      <th></th>\n",
              "      <th>target</th>\n",
              "      <th>clean_text</th>\n",
              "    </tr>\n",
              "  </thead>\n",
              "  <tbody>\n",
              "    <tr>\n",
              "      <th>0</th>\n",
              "      <td>0</td>\n",
              "      <td>So good that there isn t any diff whether or n...</td>\n",
              "    </tr>\n",
              "    <tr>\n",
              "      <th>1</th>\n",
              "      <td>1</td>\n",
              "      <td>Well I don t see any smileys here I am trying ...</td>\n",
              "    </tr>\n",
              "    <tr>\n",
              "      <th>2</th>\n",
              "      <td>1</td>\n",
              "      <td>I haven t heard any news about ASN carrying an...</td>\n",
              "    </tr>\n",
              "    <tr>\n",
              "      <th>3</th>\n",
              "      <td>0</td>\n",
              "      <td>well the subject says just about all I intende...</td>\n",
              "    </tr>\n",
              "    <tr>\n",
              "      <th>4</th>\n",
              "      <td>2</td>\n",
              "      <td>Just a quick question If Mary was Immaculately...</td>\n",
              "    </tr>\n",
              "  </tbody>\n",
              "</table>\n",
              "</div>\n",
              "    <div class=\"colab-df-buttons\">\n",
              "\n",
              "  <div class=\"colab-df-container\">\n",
              "    <button class=\"colab-df-convert\" onclick=\"convertToInteractive('df-e27cf410-5827-49b4-852e-2230cdfbcc61')\"\n",
              "            title=\"Convert this dataframe to an interactive table.\"\n",
              "            style=\"display:none;\">\n",
              "\n",
              "  <svg xmlns=\"http://www.w3.org/2000/svg\" height=\"24px\" viewBox=\"0 -960 960 960\">\n",
              "    <path d=\"M120-120v-720h720v720H120Zm60-500h600v-160H180v160Zm220 220h160v-160H400v160Zm0 220h160v-160H400v160ZM180-400h160v-160H180v160Zm440 0h160v-160H620v160ZM180-180h160v-160H180v160Zm440 0h160v-160H620v160Z\"/>\n",
              "  </svg>\n",
              "    </button>\n",
              "\n",
              "  <style>\n",
              "    .colab-df-container {\n",
              "      display:flex;\n",
              "      gap: 12px;\n",
              "    }\n",
              "\n",
              "    .colab-df-convert {\n",
              "      background-color: #E8F0FE;\n",
              "      border: none;\n",
              "      border-radius: 50%;\n",
              "      cursor: pointer;\n",
              "      display: none;\n",
              "      fill: #1967D2;\n",
              "      height: 32px;\n",
              "      padding: 0 0 0 0;\n",
              "      width: 32px;\n",
              "    }\n",
              "\n",
              "    .colab-df-convert:hover {\n",
              "      background-color: #E2EBFA;\n",
              "      box-shadow: 0px 1px 2px rgba(60, 64, 67, 0.3), 0px 1px 3px 1px rgba(60, 64, 67, 0.15);\n",
              "      fill: #174EA6;\n",
              "    }\n",
              "\n",
              "    .colab-df-buttons div {\n",
              "      margin-bottom: 4px;\n",
              "    }\n",
              "\n",
              "    [theme=dark] .colab-df-convert {\n",
              "      background-color: #3B4455;\n",
              "      fill: #D2E3FC;\n",
              "    }\n",
              "\n",
              "    [theme=dark] .colab-df-convert:hover {\n",
              "      background-color: #434B5C;\n",
              "      box-shadow: 0px 1px 3px 1px rgba(0, 0, 0, 0.15);\n",
              "      filter: drop-shadow(0px 1px 2px rgba(0, 0, 0, 0.3));\n",
              "      fill: #FFFFFF;\n",
              "    }\n",
              "  </style>\n",
              "\n",
              "    <script>\n",
              "      const buttonEl =\n",
              "        document.querySelector('#df-e27cf410-5827-49b4-852e-2230cdfbcc61 button.colab-df-convert');\n",
              "      buttonEl.style.display =\n",
              "        google.colab.kernel.accessAllowed ? 'block' : 'none';\n",
              "\n",
              "      async function convertToInteractive(key) {\n",
              "        const element = document.querySelector('#df-e27cf410-5827-49b4-852e-2230cdfbcc61');\n",
              "        const dataTable =\n",
              "          await google.colab.kernel.invokeFunction('convertToInteractive',\n",
              "                                                    [key], {});\n",
              "        if (!dataTable) return;\n",
              "\n",
              "        const docLinkHtml = 'Like what you see? Visit the ' +\n",
              "          '<a target=\"_blank\" href=https://colab.research.google.com/notebooks/data_table.ipynb>data table notebook</a>'\n",
              "          + ' to learn more about interactive tables.';\n",
              "        element.innerHTML = '';\n",
              "        dataTable['output_type'] = 'display_data';\n",
              "        await google.colab.output.renderOutput(dataTable, element);\n",
              "        const docLink = document.createElement('div');\n",
              "        docLink.innerHTML = docLinkHtml;\n",
              "        element.appendChild(docLink);\n",
              "      }\n",
              "    </script>\n",
              "  </div>\n",
              "\n",
              "\n",
              "    <div id=\"df-c858606d-6a44-455a-8d23-878682c598fd\">\n",
              "      <button class=\"colab-df-quickchart\" onclick=\"quickchart('df-c858606d-6a44-455a-8d23-878682c598fd')\"\n",
              "                title=\"Suggest charts\"\n",
              "                style=\"display:none;\">\n",
              "\n",
              "<svg xmlns=\"http://www.w3.org/2000/svg\" height=\"24px\"viewBox=\"0 0 24 24\"\n",
              "     width=\"24px\">\n",
              "    <g>\n",
              "        <path d=\"M19 3H5c-1.1 0-2 .9-2 2v14c0 1.1.9 2 2 2h14c1.1 0 2-.9 2-2V5c0-1.1-.9-2-2-2zM9 17H7v-7h2v7zm4 0h-2V7h2v10zm4 0h-2v-4h2v4z\"/>\n",
              "    </g>\n",
              "</svg>\n",
              "      </button>\n",
              "\n",
              "<style>\n",
              "  .colab-df-quickchart {\n",
              "      --bg-color: #E8F0FE;\n",
              "      --fill-color: #1967D2;\n",
              "      --hover-bg-color: #E2EBFA;\n",
              "      --hover-fill-color: #174EA6;\n",
              "      --disabled-fill-color: #AAA;\n",
              "      --disabled-bg-color: #DDD;\n",
              "  }\n",
              "\n",
              "  [theme=dark] .colab-df-quickchart {\n",
              "      --bg-color: #3B4455;\n",
              "      --fill-color: #D2E3FC;\n",
              "      --hover-bg-color: #434B5C;\n",
              "      --hover-fill-color: #FFFFFF;\n",
              "      --disabled-bg-color: #3B4455;\n",
              "      --disabled-fill-color: #666;\n",
              "  }\n",
              "\n",
              "  .colab-df-quickchart {\n",
              "    background-color: var(--bg-color);\n",
              "    border: none;\n",
              "    border-radius: 50%;\n",
              "    cursor: pointer;\n",
              "    display: none;\n",
              "    fill: var(--fill-color);\n",
              "    height: 32px;\n",
              "    padding: 0;\n",
              "    width: 32px;\n",
              "  }\n",
              "\n",
              "  .colab-df-quickchart:hover {\n",
              "    background-color: var(--hover-bg-color);\n",
              "    box-shadow: 0 1px 2px rgba(60, 64, 67, 0.3), 0 1px 3px 1px rgba(60, 64, 67, 0.15);\n",
              "    fill: var(--button-hover-fill-color);\n",
              "  }\n",
              "\n",
              "  .colab-df-quickchart-complete:disabled,\n",
              "  .colab-df-quickchart-complete:disabled:hover {\n",
              "    background-color: var(--disabled-bg-color);\n",
              "    fill: var(--disabled-fill-color);\n",
              "    box-shadow: none;\n",
              "  }\n",
              "\n",
              "  .colab-df-spinner {\n",
              "    border: 2px solid var(--fill-color);\n",
              "    border-color: transparent;\n",
              "    border-bottom-color: var(--fill-color);\n",
              "    animation:\n",
              "      spin 1s steps(1) infinite;\n",
              "  }\n",
              "\n",
              "  @keyframes spin {\n",
              "    0% {\n",
              "      border-color: transparent;\n",
              "      border-bottom-color: var(--fill-color);\n",
              "      border-left-color: var(--fill-color);\n",
              "    }\n",
              "    20% {\n",
              "      border-color: transparent;\n",
              "      border-left-color: var(--fill-color);\n",
              "      border-top-color: var(--fill-color);\n",
              "    }\n",
              "    30% {\n",
              "      border-color: transparent;\n",
              "      border-left-color: var(--fill-color);\n",
              "      border-top-color: var(--fill-color);\n",
              "      border-right-color: var(--fill-color);\n",
              "    }\n",
              "    40% {\n",
              "      border-color: transparent;\n",
              "      border-right-color: var(--fill-color);\n",
              "      border-top-color: var(--fill-color);\n",
              "    }\n",
              "    60% {\n",
              "      border-color: transparent;\n",
              "      border-right-color: var(--fill-color);\n",
              "    }\n",
              "    80% {\n",
              "      border-color: transparent;\n",
              "      border-right-color: var(--fill-color);\n",
              "      border-bottom-color: var(--fill-color);\n",
              "    }\n",
              "    90% {\n",
              "      border-color: transparent;\n",
              "      border-bottom-color: var(--fill-color);\n",
              "    }\n",
              "  }\n",
              "</style>\n",
              "\n",
              "      <script>\n",
              "        async function quickchart(key) {\n",
              "          const quickchartButtonEl =\n",
              "            document.querySelector('#' + key + ' button');\n",
              "          quickchartButtonEl.disabled = true;  // To prevent multiple clicks.\n",
              "          quickchartButtonEl.classList.add('colab-df-spinner');\n",
              "          try {\n",
              "            const charts = await google.colab.kernel.invokeFunction(\n",
              "                'suggestCharts', [key], {});\n",
              "          } catch (error) {\n",
              "            console.error('Error during call to suggestCharts:', error);\n",
              "          }\n",
              "          quickchartButtonEl.classList.remove('colab-df-spinner');\n",
              "          quickchartButtonEl.classList.add('colab-df-quickchart-complete');\n",
              "        }\n",
              "        (() => {\n",
              "          let quickchartButtonEl =\n",
              "            document.querySelector('#df-c858606d-6a44-455a-8d23-878682c598fd button');\n",
              "          quickchartButtonEl.style.display =\n",
              "            google.colab.kernel.accessAllowed ? 'block' : 'none';\n",
              "        })();\n",
              "      </script>\n",
              "    </div>\n",
              "\n",
              "    </div>\n",
              "  </div>\n"
            ],
            "application/vnd.google.colaboratory.intrinsic+json": {
              "type": "dataframe",
              "variable_name": "df",
              "summary": "{\n  \"name\": \"df\",\n  \"rows\": 1790,\n  \"fields\": [\n    {\n      \"column\": \"target\",\n      \"properties\": {\n        \"dtype\": \"number\",\n        \"std\": 0,\n        \"min\": 0,\n        \"max\": 2,\n        \"num_unique_values\": 3,\n        \"samples\": [\n          0,\n          1,\n          2\n        ],\n        \"semantic_type\": \"\",\n        \"description\": \"\"\n      }\n    },\n    {\n      \"column\": \"clean_text\",\n      \"properties\": {\n        \"dtype\": \"string\",\n        \"num_unique_values\": 1738,\n        \"samples\": [\n          \"Most of you will have probably seen the news by the time you read this but the Branch Davidian compound is no more This morning about the feds punched holes in the compound walls by using a tank They then started using non lethal tear gas Shortly after noon cult members were seen setting fire to the compound So far about people have been seen outside the compound The fate of the other or people is unknown neither is the fate of the children that were inside The compound did burn to the ground Koresh who at times has claimed to be the Messiah but then backed off and only claimed to be a prophet had promised several times to come out peacefully if his demands were met First he demanded that his message be broadcast on the radio which it was but he didn t come out He claimed to be waiting for a message from God Finally he said that God told him that he needed to decipher the mystery of the seals in Revelation and when he was finished he d come out He finished the first one but didn t do any more work that anyone knows of since then The federal agents did warn him that if they didn t come out they would be subjected to tear gas I think it s really sad that so many people put their faith in a mere man even if he did claim to be the son of God and or a prophet I think it underscores the importance of putting you faith only in things that are eternal and knowing for yourself what the Scriptures say and what they mean instead of relying on others to do it for you even if those others are learned and mean well\",\n          \"I think that NHLPA is the best video game available now of course many things could be done better but i really appreciate that the names of players are the real ones no matter if it lacks some logos I am still playing it since November leading different teams to the finals and making scorers from the same team compete for the top scoring Yesterday I won the title using Toronto against Hartford games to two I played the playoffs in a games fashion minutes for each period and the best scorer and shooter was Gilmour shots if I remember well _____________________________________________________ Iskander AYARI\",\n          \"I can t believe that the NY Rangers would force its players to go to Binghamtom to play in the AHL playoffs instead of letting them represent their countries in the World Championships Anderrson and Zubov are waiting for the NHL to make a decision to this while Kovalev has given in and gone down to the minors The Rangers are a disgrace ps it has been reported that Neil Smith was very much against the hiring of Mike Keenan How long will Smith be in NY for\"\n        ],\n        \"semantic_type\": \"\",\n        \"description\": \"\"\n      }\n    }\n  ]\n}"
            }
          },
          "metadata": {},
          "execution_count": 50
        }
      ]
    },
    {
      "cell_type": "code",
      "source": [
        "from sklearn.feature_extraction.text import TfidfVectorizer"
      ],
      "metadata": {
        "id": "epLVWmMxMEMD"
      },
      "execution_count": 51,
      "outputs": []
    },
    {
      "cell_type": "code",
      "source": [
        "tfidf=TfidfVectorizer(max_df=.6,min_df=.05,ngram_range=(1,3))"
      ],
      "metadata": {
        "id": "GBloZFaeLlVX"
      },
      "execution_count": 52,
      "outputs": []
    },
    {
      "cell_type": "code",
      "source": [
        "x=tfidf.fit_transform(df[\"clean_text\"])\n",
        "x.shape"
      ],
      "metadata": {
        "colab": {
          "base_uri": "https://localhost:8080/"
        },
        "id": "TSpASEDEMDqy",
        "outputId": "a0030009-b99c-436b-c156-2132196e6f63"
      },
      "execution_count": 53,
      "outputs": [
        {
          "output_type": "execute_result",
          "data": {
            "text/plain": [
              "(1790, 337)"
            ]
          },
          "metadata": {},
          "execution_count": 53
        }
      ]
    },
    {
      "cell_type": "code",
      "source": [
        "#truncatedsvd\n",
        "from sklearn.decomposition import TruncatedSVD\n",
        "tsvd=TruncatedSVD(n_components=250)\n",
        "x_tsvd=tsvd.fit_transform(x)\n",
        "tsvd.explained_variance_ratio_.sum()"
      ],
      "metadata": {
        "colab": {
          "base_uri": "https://localhost:8080/"
        },
        "id": "aJ3gD59VMaZw",
        "outputId": "090ead86-6f65-4196-89a1-ef1c994fc419"
      },
      "execution_count": 54,
      "outputs": [
        {
          "output_type": "execute_result",
          "data": {
            "text/plain": [
              "np.float64(0.937930249182695)"
            ]
          },
          "metadata": {},
          "execution_count": 54
        }
      ]
    },
    {
      "cell_type": "code",
      "source": [
        "from sklearn.cluster import KMeans"
      ],
      "metadata": {
        "id": "UicVh2auPqix"
      },
      "execution_count": null,
      "outputs": []
    },
    {
      "cell_type": "code",
      "source": [
        "n_clusters = len(categories)\n",
        "kmeans = KMeans(n_clusters=n_clusters, random_state=42, n_init=10)\n",
        "cluster_labels = kmeans.fit_predict(x_tsvd)"
      ],
      "metadata": {
        "id": "rwa7lLYHPDlO"
      },
      "execution_count": 60,
      "outputs": []
    },
    {
      "cell_type": "code",
      "source": [
        "from sklearn.metrics import adjusted_rand_score, silhouette_score"
      ],
      "metadata": {
        "id": "rg0DbJQgPaQR"
      },
      "execution_count": 61,
      "outputs": []
    },
    {
      "cell_type": "code",
      "source": [
        "ari_score = adjusted_rand_score(df['target'], cluster_labels)\n",
        "silhouette_avg = silhouette_score(x_tsvd, cluster_labels)"
      ],
      "metadata": {
        "id": "ngjDV7X-PT3_"
      },
      "execution_count": 62,
      "outputs": []
    },
    {
      "cell_type": "code",
      "source": [
        "print(f\"Adjusted Rand Index: {ari_score:.3f}\")\n",
        "print(f\"Silhouette Score: {silhouette_avg:.3f}\")"
      ],
      "metadata": {
        "colab": {
          "base_uri": "https://localhost:8080/"
        },
        "id": "BxyhpF6wPxzk",
        "outputId": "e48a58ec-7820-452e-969f-253b9d8886ab"
      },
      "execution_count": 70,
      "outputs": [
        {
          "output_type": "stream",
          "name": "stdout",
          "text": [
            "Adjusted Rand Index: 0.320\n",
            "Silhouette Score: 0.025\n"
          ]
        }
      ]
    },
    {
      "cell_type": "code",
      "source": [
        "import matplotlib.pyplot as plt"
      ],
      "metadata": {
        "id": "300GcIBOP84C"
      },
      "execution_count": 65,
      "outputs": []
    },
    {
      "cell_type": "code",
      "source": [
        "plt.figure(figsize=(10, 6))\n",
        "plt.subplot(1, 2, 1)\n",
        "df['target'].value_counts().plot(kind='bar', title='before')\n",
        "plt.xticks(rotation=45)\n",
        "plt.subplot(1, 2, 2)\n",
        "pd.Series(cluster_labels).value_counts().sort_index().plot(kind='bar', title='after')\n",
        "plt.tight_layout()\n",
        "plt.show()"
      ],
      "metadata": {
        "colab": {
          "base_uri": "https://localhost:8080/",
          "height": 607
        },
        "id": "RYzWf9brP7OJ",
        "outputId": "7a8434cb-35af-44c7-8063-ebe1db4f3e8f"
      },
      "execution_count": 69,
      "outputs": [
        {
          "output_type": "display_data",
          "data": {
            "text/plain": [
              "<Figure size 1000x600 with 2 Axes>"
            ],
            "image/png": "[encoded data removed]"
          },
          "metadata": {}
        }
      ]
    },
    {
      "cell_type": "code",
      "source": [
        "# accuracy\n",
        "kmeans.score(x_tsvd)"
      ],
      "metadata": {
        "colab": {
          "base_uri": "https://localhost:8080/"
        },
        "id": "T3-s-5vnNzhg",
        "outputId": "e45aee6b-5279-4bcc-ce46-5dbf0bf26504"
      },
      "execution_count": 63,
      "outputs": [
        {
          "output_type": "execute_result",
          "data": {
            "text/plain": [
              "-1358.164935846065"
            ]
          },
          "metadata": {},
          "execution_count": 63
        }
      ]
    },
    {
      "cell_type": "code",
      "source": [
        "from sklearn.datasets import fetch_20newsgroups\n",
        "import pandas as pd\n",
        "import numpy as np\n",
        "import re\n",
        "from sklearn.feature_extraction.text import TfidfVectorizer\n",
        "from sklearn.decomposition import TruncatedSVD\n",
        "from sklearn.cluster import KMeans\n",
        "from sklearn.metrics import adjusted_rand_score, silhouette_score\n",
        "import matplotlib.pyplot as plt\n",
        "\n",
        "# تحميل البيانات\n",
        "categories = [\n",
        "    'comp.os.ms-windows.misc',\n",
        "    'rec.sport.hockey',\n",
        "    'soc.religion.christian',\n",
        "]\n",
        "\n",
        "dataset = fetch_20newsgroups(\n",
        "    subset='train',\n",
        "    categories=categories,\n",
        "    shuffle=True,\n",
        "    remove=('headers', 'footers', 'quotes')\n",
        ")\n",
        "\n",
        "# إنشاء DataFrame\n",
        "data = {'text': dataset.data, 'target': dataset.target, 'target_names': [categories[i] for i in dataset.target]}\n",
        "df = pd.DataFrame(data)\n",
        "\n",
        "print(f\"عدد النصوص: {len(df)}\")\n",
        "print(f\"توزيع الفئات:\\n{df['target_names'].value_counts()}\")\n",
        "\n",
        "# تنظيف النصوص المحسن\n",
        "def preprocess_text(text):\n",
        "    \"\"\"تنظيف النصوص مع معالجة أفضل\"\"\"\n",
        "    text = str(text).lower()\n",
        "    # إزالة الأرقام والرموز الخاصة\n",
        "    text = re.sub(r'[^a-zA-Z\\s]', ' ', text)\n",
        "    # إزالة المسافات الزائدة\n",
        "    text = re.sub(r'\\s+', ' ', text)\n",
        "    # إزالة الكلمات القصيرة جداً\n",
        "    text = ' '.join([word for word in text.split() if len(word) > 2])\n",
        "    return text.strip()\n",
        "\n",
        "df[\"clean_text\"] = df[\"text\"].apply(preprocess_text)\n",
        "\n",
        "# إزالة النصوص الفارغة\n",
        "df = df[df[\"clean_text\"].str.len() > 0].reset_index(drop=True)\n",
        "print(f\"عدد النصوص بعد التنظيف: {len(df)}\")\n",
        "\n",
        "# استخراج الميزات باستخدام TF-IDF\n",
        "tfidf = TfidfVectorizer(\n",
        "    max_df=0.7,        # تقليل الكلمات الشائعة جداً\n",
        "    min_df=0.01,       # تقليل الكلمات النادرة جداً\n",
        "    ngram_range=(1, 2), # استخدام unigrams و bigrams فقط\n",
        "    max_features=5000,  # تحديد عدد الميزات\n",
        "    stop_words='english'\n",
        ")\n",
        "\n",
        "X = tfidf.fit_transform(df[\"clean_text\"])\n",
        "print(f\"شكل مصفوفة TF-IDF: {X.shape}\")\n",
        "\n",
        "# تقليل الأبعاد باستخدام SVD\n",
        "n_components = min(100, X.shape[1])  # تجنب استخدام components أكثر من الميزات المتاحة\n",
        "tsvd = TruncatedSVD(n_components=n_components, random_state=42)\n",
        "X_reduced = tsvd.fit_transform(X)\n",
        "\n",
        "explained_variance = tsvd.explained_variance_ratio_.sum()\n",
        "print(f\"نسبة التباين المفسر: {explained_variance:.3f}\")\n",
        "\n",
        "# تطبيق K-Means مع عدد العناقيد الصحيح\n",
        "n_clusters = len(categories)  # استخدام عدد الفئات الحقيقية\n",
        "kmeans = KMeans(n_clusters=n_clusters, random_state=42, n_init=10)\n",
        "cluster_labels = kmeans.fit_predict(X_reduced)\n",
        "\n",
        "# تقييم الأداء\n",
        "# مقارنة مع التصنيف الحقيقي\n",
        "ari_score = adjusted_rand_score(df['target'], cluster_labels)\n",
        "silhouette_avg = silhouette_score(X_reduced, cluster_labels)\n",
        "\n",
        "print(f\"\\nتقييم الأداء:\")\n",
        "print(f\"Adjusted Rand Index: {ari_score:.3f}\")\n",
        "print(f\"Silhouette Score: {silhouette_avg:.3f}\")\n",
        "\n",
        "# إضافة التصنيف إلى DataFrame\n",
        "df['cluster'] = cluster_labels\n",
        "\n",
        "# عرض أمثلة من كل مجموعة\n",
        "print(\"\\nأمثلة من كل مجموعة:\")\n",
        "for i in range(n_clusters):\n",
        "    print(f\"\\nالمجموعة {i}:\")\n",
        "    cluster_texts = df[df['cluster'] == i]['clean_text'].head(2)\n",
        "    for j, text in enumerate(cluster_texts):\n",
        "        print(f\"  {j+1}: {text[:100]}...\")\n",
        "\n",
        "# تحليل الكلمات المهمة لكل مجموعة\n",
        "feature_names = tfidf.get_feature_names_out()\n",
        "\n",
        "def get_top_keywords(cluster_center, feature_names, top_k=10):\n",
        "    \"\"\"استخراج الكلمات المهمة لكل مجموعة\"\"\"\n",
        "    # الحصول على مراكز العناقيد في المساحة الأصلية\n",
        "    center_tfidf = tsvd.inverse_transform(cluster_center.reshape(1, -1))\n",
        "    top_indices = center_tfidf[0].argsort()[-top_k:][::-1]\n",
        "    return [feature_names[i] for i in top_indices]\n",
        "\n",
        "print(\"\\nالكلمات المميزة لكل مجموعة:\")\n",
        "for i, center in enumerate(kmeans.cluster_centers_):\n",
        "    keywords = get_top_keywords(center, feature_names)\n",
        "    print(f\"المجموعة {i}: {', '.join(keywords)}\")\n",
        "\n",
        "# رسم بياني لتوزيع المجموعات\n",
        "plt.figure(figsize=(10, 6))\n",
        "plt.subplot(1, 2, 1)\n",
        "df['target_names'].value_counts().plot(kind='bar', title='التوزيع الحقيقي للفئات')\n",
        "plt.xticks(rotation=45)\n",
        "\n",
        "plt.subplot(1, 2, 2)\n",
        "pd.Series(cluster_labels).value_counts().sort_index().plot(kind='bar', title='توزيع المجموعات')\n",
        "plt.xlabel('رقم المجموعة')\n",
        "plt.ylabel('عدد النصوص')\n",
        "\n",
        "plt.tight_layout()\n",
        "plt.show()\n",
        "\n",
        "# حفظ النتائج\n",
        "results_df = df[['target_names', 'cluster', 'clean_text']].copy()\n",
        "print(\"\\nالنتائج محفوظة في results_df\")"
      ],
      "metadata": {
        "colab": {
          "base_uri": "https://localhost:8080/",
          "height": 1000
        },
        "id": "G9bTCy8mN21Y",
        "outputId": "a13df709-8b98-4b85-d74b-f1ae06cf892e"
      },
      "execution_count": 71,
      "outputs": [
        {
          "output_type": "stream",
          "name": "stdout",
          "text": [
            "عدد النصوص: 1790\n",
            "توزيع الفئات:\n",
            "target_names\n",
            "rec.sport.hockey           600\n",
            "soc.religion.christian     599\n",
            "comp.os.ms-windows.misc    591\n",
            "Name: count, dtype: int64\n",
            "عدد النصوص بعد التنظيف: 1742\n",
            "شكل مصفوفة TF-IDF: (1742, 1215)\n",
            "نسبة التباين المفسر: 0.365\n",
            "\n",
            "تقييم الأداء:\n",
            "Adjusted Rand Index: 0.557\n",
            "Silhouette Score: 0.031\n",
            "\n",
            "أمثلة من كل مجموعة:\n",
            "\n",
            "المجموعة 0:\n",
            "  1: just quick question mary was immaculately concieved she could pure vessel does this mean that she wa...\n",
            "  2: listowner have sent this anderson privately post only you think general interest here copy something...\n",
            "\n",
            "المجموعة 1:\n",
            "  1: good that there isn any diff whether not atmanager turned not worth run atm all especially with thes...\n",
            "  2: there with megs ram there need run load smartdrv for windows yes can run load ramdrive without smart...\n",
            "\n",
            "المجموعة 2:\n",
            "  1: well don see any smileys here trying figure out the poster dog wordprocessor couldn neither both are...\n",
            "  2: haven heard any news about asn carrying any games but the local cable station here john cable carryi...\n",
            "\n",
            "الكلمات المميزة لكل مجموعة:\n",
            "المجموعة 0: god, jesus, people, church, christians, believe, christ, bible, christian, faith\n",
            "المجموعة 1: windows, file, dos, files, use, thanks, using, card, program, driver\n",
            "المجموعة 2: game, team, hockey, like, just, games, think, play, year, season\n"
          ]
        },
        {
          "output_type": "display_data",
          "data": {
            "text/plain": [
              "<Figure size 1000x600 with 2 Axes>"
            ],
            "image/png": "[encoded data removed]"
          },
          "metadata": {}
        },
        {
          "output_type": "stream",
          "name": "stdout",
          "text": [
            "\n",
            "النتائج محفوظة في results_df\n"
          ]
        }
      ]
    }
  ]
}